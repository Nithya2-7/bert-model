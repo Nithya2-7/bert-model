{
 "cells": [
  {
   "cell_type": "code",
   "execution_count": null,
   "id": "5c400c63",
   "metadata": {},
   "outputs": [],
   "source": [
    "from transformers import BertTokenizer, BertModel\n",
    "import torch\n",
    "\n",
    "tokenizer = BertTokenizer.from_pretrained('bert-base-uncased')\n",
    "model = BertModel.from_pretrained('bert-base-uncased')\n",
    "\n",
    "text = \"Natural Language Processing is Amazing!\"\n",
    "tokens =tokenizer.tokenize(text)\n",
    "print(\"Tokens:\", tokens)\n",
    "\n",
    "inputs = tokenizer(text, return_tensors=\"pt\")\n",
    "print(\"Encoded Token IDs:\", inputs['input_ids'])\n",
    "\n",
    "output = model(**inputs)\n",
    "\n",
    "cls_embedding = output.last_hidden_state[0][0]  # First token of the first sequence\n",
    "print(\"CLS Token Embedding Vector (shape):\", cls_embedding.shape)"
   ]
  }
 ],
 "metadata": {
  "kernelspec": {
   "display_name": "Python 3",
   "language": "python",
   "name": "python3"
  },
  "language_info": {
   "name": "python",
   "version": "3.13.5"
  }
 },
 "nbformat": 4,
 "nbformat_minor": 5
}
